{
 "cells": [
  {
   "cell_type": "code",
   "execution_count": 1,
   "id": "44f2daed",
   "metadata": {},
   "outputs": [
    {
     "name": "stdout",
     "output_type": "stream",
     "text": [
      "                                                Text  Income  Credit_Score  \\\n",
      "0  I need a loan to pay for an international vaca...   26556           581   \n",
      "1  I want to make home improvements like installi...  197392           389   \n",
      "2  I need a loan for home renovation, including a...   44561           523   \n",
      "3  I need funds to buy new furniture and applianc...  190363           729   \n",
      "4           I need a loan to start a small business.   61853           732   \n",
      "\n",
      "   Loan_Amount  DTI_Ratio Employment_Status  Approval  \n",
      "0         8314      79.26          employed  Rejected  \n",
      "1       111604      22.14          employed  Rejected  \n",
      "2        34118      45.44          employed  Rejected  \n",
      "3       118757      10.22        unemployed  Rejected  \n",
      "4        19210      44.13          employed  Approved  \n"
     ]
    }
   ],
   "source": [
    "import pandas as pd\n",
    "from sklearn.model_selection import train_test_split\n",
    "\n",
    "loan_data = pd.read_csv(\"loan_data.csv\")\n",
    "\n",
    "print(loan_data.head(5))"
   ]
  },
  {
   "cell_type": "code",
   "execution_count": null,
   "id": "a7de7426",
   "metadata": {},
   "outputs": [],
   "source": []
  }
 ],
 "metadata": {
  "kernelspec": {
   "display_name": "Python 3 (ipykernel)",
   "language": "python",
   "name": "python3"
  },
  "language_info": {
   "codemirror_mode": {
    "name": "ipython",
    "version": 3
   },
   "file_extension": ".py",
   "mimetype": "text/x-python",
   "name": "python",
   "nbconvert_exporter": "python",
   "pygments_lexer": "ipython3",
   "version": "3.11.5"
  }
 },
 "nbformat": 4,
 "nbformat_minor": 5
}
