{
 "cells": [
  {
   "cell_type": "code",
   "execution_count": 109,
   "id": "44f2daed",
   "metadata": {
    "scrolled": true
   },
   "outputs": [
    {
     "name": "stdout",
     "output_type": "stream",
     "text": [
      "                                                Text  Income  Credit_Score  \\\n",
      "0  I need a loan to pay for an international vaca...   26556           581   \n",
      "1  I want to make home improvements like installi...  197392           389   \n",
      "2  I need a loan for home renovation, including a...   44561           523   \n",
      "3  I need funds to buy new furniture and applianc...  190363           729   \n",
      "4           I need a loan to start a small business.   61853           732   \n",
      "\n",
      "   Loan_Amount  DTI_Ratio Employment_Status  Approval  \n",
      "0         8314      79.26          employed  Rejected  \n",
      "1       111604      22.14          employed  Rejected  \n",
      "2        34118      45.44          employed  Rejected  \n",
      "3       118757      10.22        unemployed  Rejected  \n",
      "4        19210      44.13          employed  Approved  \n"
     ]
    }
   ],
   "source": [
    "import pandas as pd\n",
    "from sklearn.tree import DecisionTreeClassifier\n",
    "from sklearn.metrics import mean_absolute_error, accuracy_score, confusion_matrix\n",
    "from sklearn.model_selection import train_test_split\n",
    "\n",
    "loan_data = pd.read_csv(\"loan_data.csv\")\n",
    "\n",
    "print(loan_data.head(5))"
   ]
  },
  {
   "cell_type": "code",
   "execution_count": 110,
   "id": "86ba7c82",
   "metadata": {},
   "outputs": [
    {
     "name": "stdout",
     "output_type": "stream",
     "text": [
      "['Income', 'Credit_Score', 'Loan_Amount', 'DTI_Ratio', 'Employment_Status']\n"
     ]
    }
   ],
   "source": [
    "feature_list = list(loan_data.columns)\n",
    "feature_list.remove('Approval')\n",
    "feature_list.remove('Text')\n",
    "print(feature_list)\n",
    "loan_data['Approval'] = loan_data['Approval'].map({'Approved' : 1.0, 'Rejected' : 0.0})\n",
    "loan_data['Employment_Status'] = loan_data['Employment_Status'].map({'employed': 1.0, 'unemployed' : 0.0})\n",
    "features = loan_data[feature_list]\n",
    "labels = loan_data['Approval']"
   ]
  },
  {
   "cell_type": "code",
   "execution_count": 111,
   "id": "d5578dea",
   "metadata": {},
   "outputs": [
    {
     "data": {
      "text/html": [
       "<div>\n",
       "<style scoped>\n",
       "    .dataframe tbody tr th:only-of-type {\n",
       "        vertical-align: middle;\n",
       "    }\n",
       "\n",
       "    .dataframe tbody tr th {\n",
       "        vertical-align: top;\n",
       "    }\n",
       "\n",
       "    .dataframe thead th {\n",
       "        text-align: right;\n",
       "    }\n",
       "</style>\n",
       "<table border=\"1\" class=\"dataframe\">\n",
       "  <thead>\n",
       "    <tr style=\"text-align: right;\">\n",
       "      <th></th>\n",
       "      <th>Income</th>\n",
       "      <th>Credit_Score</th>\n",
       "      <th>Loan_Amount</th>\n",
       "      <th>DTI_Ratio</th>\n",
       "      <th>Employment_Status</th>\n",
       "      <th>Approval</th>\n",
       "    </tr>\n",
       "  </thead>\n",
       "  <tbody>\n",
       "    <tr>\n",
       "      <th>count</th>\n",
       "      <td>24000.000000</td>\n",
       "      <td>24000.000000</td>\n",
       "      <td>24000.000000</td>\n",
       "      <td>24000.000000</td>\n",
       "      <td>24000.000000</td>\n",
       "      <td>24000.000000</td>\n",
       "    </tr>\n",
       "    <tr>\n",
       "      <th>mean</th>\n",
       "      <td>110377.552708</td>\n",
       "      <td>575.720333</td>\n",
       "      <td>44356.154833</td>\n",
       "      <td>34.719167</td>\n",
       "      <td>0.499708</td>\n",
       "      <td>0.163875</td>\n",
       "    </tr>\n",
       "    <tr>\n",
       "      <th>std</th>\n",
       "      <td>51729.677627</td>\n",
       "      <td>159.227621</td>\n",
       "      <td>34666.604785</td>\n",
       "      <td>32.322471</td>\n",
       "      <td>0.500010</td>\n",
       "      <td>0.370170</td>\n",
       "    </tr>\n",
       "    <tr>\n",
       "      <th>min</th>\n",
       "      <td>20001.000000</td>\n",
       "      <td>300.000000</td>\n",
       "      <td>1005.000000</td>\n",
       "      <td>2.530000</td>\n",
       "      <td>0.000000</td>\n",
       "      <td>0.000000</td>\n",
       "    </tr>\n",
       "    <tr>\n",
       "      <th>25%</th>\n",
       "      <td>65635.750000</td>\n",
       "      <td>437.000000</td>\n",
       "      <td>16212.000000</td>\n",
       "      <td>14.507500</td>\n",
       "      <td>0.000000</td>\n",
       "      <td>0.000000</td>\n",
       "    </tr>\n",
       "    <tr>\n",
       "      <th>50%</th>\n",
       "      <td>110464.000000</td>\n",
       "      <td>575.000000</td>\n",
       "      <td>35207.000000</td>\n",
       "      <td>24.860000</td>\n",
       "      <td>0.000000</td>\n",
       "      <td>0.000000</td>\n",
       "    </tr>\n",
       "    <tr>\n",
       "      <th>75%</th>\n",
       "      <td>155187.000000</td>\n",
       "      <td>715.000000</td>\n",
       "      <td>65622.750000</td>\n",
       "      <td>41.840000</td>\n",
       "      <td>1.000000</td>\n",
       "      <td>0.000000</td>\n",
       "    </tr>\n",
       "    <tr>\n",
       "      <th>max</th>\n",
       "      <td>200000.000000</td>\n",
       "      <td>850.000000</td>\n",
       "      <td>158834.000000</td>\n",
       "      <td>246.330000</td>\n",
       "      <td>1.000000</td>\n",
       "      <td>1.000000</td>\n",
       "    </tr>\n",
       "  </tbody>\n",
       "</table>\n",
       "</div>"
      ],
      "text/plain": [
       "              Income  Credit_Score    Loan_Amount     DTI_Ratio  \\\n",
       "count   24000.000000  24000.000000   24000.000000  24000.000000   \n",
       "mean   110377.552708    575.720333   44356.154833     34.719167   \n",
       "std     51729.677627    159.227621   34666.604785     32.322471   \n",
       "min     20001.000000    300.000000    1005.000000      2.530000   \n",
       "25%     65635.750000    437.000000   16212.000000     14.507500   \n",
       "50%    110464.000000    575.000000   35207.000000     24.860000   \n",
       "75%    155187.000000    715.000000   65622.750000     41.840000   \n",
       "max    200000.000000    850.000000  158834.000000    246.330000   \n",
       "\n",
       "       Employment_Status      Approval  \n",
       "count       24000.000000  24000.000000  \n",
       "mean            0.499708      0.163875  \n",
       "std             0.500010      0.370170  \n",
       "min             0.000000      0.000000  \n",
       "25%             0.000000      0.000000  \n",
       "50%             0.000000      0.000000  \n",
       "75%             1.000000      0.000000  \n",
       "max             1.000000      1.000000  "
      ]
     },
     "execution_count": 111,
     "metadata": {},
     "output_type": "execute_result"
    }
   ],
   "source": [
    "loan_data.describe()"
   ]
  },
  {
   "cell_type": "code",
   "execution_count": 116,
   "id": "20379b2f",
   "metadata": {
    "scrolled": true
   },
   "outputs": [
    {
     "name": "stdout",
     "output_type": "stream",
     "text": [
      "0.956\n",
      "0.9945\n",
      "0.9951666666666666\n",
      "0.9951666666666666\n"
     ]
    }
   ],
   "source": [
    "train_X, test_X, train_y, test_y = train_test_split(features, labels, random_state = 1) # X, y, random_state\n",
    "\n",
    "leafs_nodes = [5, 50, 500, 5000]\n",
    "\n",
    "leafs_list = {}\n",
    "best_mae = float('inf')\n",
    "for leaf in leafs_nodes:\n",
    "    model = DecisionTreeClassifier(random_state = 1, max_leaf_nodes = leaf)\n",
    "    model.fit(train_X, train_y)\n",
    "    preds = model.predict(test_X)\n",
    "\n",
    "    accuracy = accuracy_score(test_y, preds)\n",
    "    leafs_list[leaf] = accuracy\n",
    "    print(accuracy)\n",
    "\n",
    "optimal_leaf_nodes_size = max(leafs_list, key=leafs_list.get)\n",
    "best_accuracy = leafs_list[optimal_leaf_nodes_size]"
   ]
  },
  {
   "cell_type": "code",
   "execution_count": 122,
   "id": "b4f7adc9",
   "metadata": {},
   "outputs": [
    {
     "name": "stdout",
     "output_type": "stream",
     "text": [
      "0.9951666666666666\n"
     ]
    }
   ],
   "source": [
    "print(best_accuracy)"
   ]
  },
  {
   "cell_type": "code",
   "execution_count": 129,
   "id": "be14e686",
   "metadata": {},
   "outputs": [
    {
     "name": "stdout",
     "output_type": "stream",
     "text": [
      "[[4989   14]\n",
      " [  15  982]]\n"
     ]
    },
    {
     "data": {
      "text/plain": [
       "<Axes: >"
      ]
     },
     "execution_count": 129,
     "metadata": {},
     "output_type": "execute_result"
    },
    {
     "data": {
      "image/png": "[encoded data removed]",
      "text/plain": [
       "<Figure size 640x480 with 2 Axes>"
      ]
     },
     "metadata": {},
     "output_type": "display_data"
    }
   ],
   "source": [
    "import seaborn as sb\n",
    "conf_matrix = confusion_matrix(test_y, preds)\n",
    "print(conf_matrix)\n",
    "sb.heatmap(conf_matrix, annot = True, fmt = \".1f\")"
   ]
  }
 ],
 "metadata": {
  "kernelspec": {
   "display_name": "Python 3 (ipykernel)",
   "language": "python",
   "name": "python3"
  },
  "language_info": {
   "codemirror_mode": {
    "name": "ipython",
    "version": 3
   },
   "file_extension": ".py",
   "mimetype": "text/x-python",
   "name": "python",
   "nbconvert_exporter": "python",
   "pygments_lexer": "ipython3",
   "version": "3.11.5"
  }
 },
 "nbformat": 4,
 "nbformat_minor": 5
}
